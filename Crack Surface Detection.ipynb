{
 "cells": [
  {
   "cell_type": "code",
   "execution_count": 1,
   "metadata": {},
   "outputs": [
    {
     "name": "stderr",
     "output_type": "stream",
     "text": [
      "Using TensorFlow backend.\n"
     ]
    }
   ],
   "source": [
    "from keras.models import Sequential\n",
    "from keras.layers import Convolution2D\n",
    "from keras.layers import MaxPooling2D\n",
    "from keras.layers import Flatten\n",
    "from keras.layers import Dense"
   ]
  },
  {
   "cell_type": "code",
   "execution_count": 2,
   "metadata": {},
   "outputs": [],
   "source": [
    "classifier = Sequential()"
   ]
  },
  {
   "cell_type": "code",
   "execution_count": 3,
   "metadata": {},
   "outputs": [
    {
     "name": "stderr",
     "output_type": "stream",
     "text": [
      "C:\\Users\\win10\\Anaconda3\\envs\\gpuenv\\lib\\site-packages\\ipykernel_launcher.py:1: UserWarning: Update your `Conv2D` call to the Keras 2 API: `Conv2D(32, (3, 3), input_shape=(64, 64, 3..., activation=\"relu\")`\n",
      "  \"\"\"Entry point for launching an IPython kernel.\n"
     ]
    }
   ],
   "source": [
    "classifier.add(Convolution2D(32, 3, 3, input_shape= (64, 64, 3), activation ='relu'))"
   ]
  },
  {
   "cell_type": "code",
   "execution_count": 4,
   "metadata": {},
   "outputs": [],
   "source": [
    "classifier.add(MaxPooling2D(pool_size = (2,2),  padding='same'))"
   ]
  },
  {
   "cell_type": "code",
   "execution_count": 5,
   "metadata": {},
   "outputs": [
    {
     "name": "stderr",
     "output_type": "stream",
     "text": [
      "C:\\Users\\win10\\Anaconda3\\envs\\gpuenv\\lib\\site-packages\\ipykernel_launcher.py:2: UserWarning: Update your `Dense` call to the Keras 2 API: `Dense(activation=\"relu\", units=128)`\n",
      "  \n",
      "C:\\Users\\win10\\Anaconda3\\envs\\gpuenv\\lib\\site-packages\\ipykernel_launcher.py:3: UserWarning: Update your `Dense` call to the Keras 2 API: `Dense(activation=\"sigmoid\", units=1)`\n",
      "  This is separate from the ipykernel package so we can avoid doing imports until\n"
     ]
    }
   ],
   "source": [
    "classifier.add(Flatten())\n",
    "classifier.add(Dense(output_dim = 128, activation = 'relu'))\n",
    "classifier.add(Dense(output_dim = 1, activation = 'sigmoid'))\n",
    "classifier.compile(optimizer='adam', loss='binary_crossentropy', metrics =['accuracy'])"
   ]
  },
  {
   "cell_type": "code",
   "execution_count": 6,
   "metadata": {},
   "outputs": [
    {
     "name": "stdout",
     "output_type": "stream",
     "text": [
      "Found 8000 images belonging to 2 classes.\n",
      "Found 2000 images belonging to 2 classes.\n",
      "Epoch 1/10\n",
      "8000/8000 [==============================] - 2193s 274ms/step - loss: 0.0393 - accuracy: 0.9874 - val_loss: 0.0036 - val_accuracy: 0.9875\n",
      "Epoch 2/10\n",
      "8000/8000 [==============================] - 2515s 314ms/step - loss: 0.0172 - accuracy: 0.9950 - val_loss: 0.0548 - val_accuracy: 0.9826\n",
      "Epoch 3/10\n",
      "8000/8000 [==============================] - 2010s 251ms/step - loss: 0.0075 - accuracy: 0.9976 - val_loss: 0.0486 - val_accuracy: 0.9805\n",
      "Epoch 4/10\n",
      "8000/8000 [==============================] - 1962s 245ms/step - loss: 0.0035 - accuracy: 0.9989 - val_loss: 0.0037 - val_accuracy: 0.9865\n",
      "Epoch 5/10\n",
      "8000/8000 [==============================] - 2059s 257ms/step - loss: 0.0025 - accuracy: 0.9993 - val_loss: 4.3037e-04 - val_accuracy: 0.9900\n",
      "Epoch 6/10\n",
      "8000/8000 [==============================] - 2002s 250ms/step - loss: 0.0020 - accuracy: 0.9995 - val_loss: 0.0056 - val_accuracy: 0.9885\n",
      "Epoch 7/10\n",
      "8000/8000 [==============================] - 1992s 249ms/step - loss: 0.0015 - accuracy: 0.9996 - val_loss: 1.2534e-04 - val_accuracy: 0.9894\n",
      "Epoch 8/10\n",
      "8000/8000 [==============================] - 1997s 250ms/step - loss: 9.8196e-04 - accuracy: 0.9998 - val_loss: 0.1458 - val_accuracy: 0.9801\n",
      "Epoch 9/10\n",
      "8000/8000 [==============================] - 1996s 250ms/step - loss: 0.0013 - accuracy: 0.9997 - val_loss: 0.4552 - val_accuracy: 0.9930\n",
      "Epoch 10/10\n",
      "8000/8000 [==============================] - 2043s 255ms/step - loss: 7.8814e-04 - accuracy: 0.9998 - val_loss: 0.0015 - val_accuracy: 0.9911\n"
     ]
    },
    {
     "data": {
      "text/plain": [
       "<keras.callbacks.callbacks.History at 0x2abaa8b50c8>"
      ]
     },
     "execution_count": 6,
     "metadata": {},
     "output_type": "execute_result"
    }
   ],
   "source": [
    "from keras.preprocessing.image import ImageDataGenerator\n",
    "\n",
    "train_datagen = ImageDataGenerator(\n",
    "        rescale=1./255,\n",
    "        shear_range=0.2,\n",
    "        zoom_range=0.2,\n",
    "        horizontal_flip=True)\n",
    "\n",
    "test_datagen = ImageDataGenerator(rescale=1./255)\n",
    "\n",
    "training_set = train_datagen.flow_from_directory(\n",
    "        'Dataset/training_set',\n",
    "        target_size=(64, 64),\n",
    "        batch_size=32,\n",
    "        class_mode='binary')\n",
    "\n",
    "test_set = test_datagen.flow_from_directory(\n",
    "        'Dataset/test_set',\n",
    "        target_size=(64, 64),\n",
    "        batch_size=32,\n",
    "        class_mode='binary')\n",
    "\n",
    "classifier.fit_generator(\n",
    "        training_set,\n",
    "        steps_per_epoch=8000,\n",
    "        epochs=10,\n",
    "        validation_data=test_set,\n",
    "        validation_steps=2000)"
   ]
  }
 ],
 "metadata": {
  "kernelspec": {
   "display_name": "Python 3",
   "language": "python",
   "name": "python3"
  },
  "language_info": {
   "codemirror_mode": {
    "name": "ipython",
    "version": 3
   },
   "file_extension": ".py",
   "mimetype": "text/x-python",
   "name": "python",
   "nbconvert_exporter": "python",
   "pygments_lexer": "ipython3",
   "version": "3.7.7"
  }
 },
 "nbformat": 4,
 "nbformat_minor": 4
}
